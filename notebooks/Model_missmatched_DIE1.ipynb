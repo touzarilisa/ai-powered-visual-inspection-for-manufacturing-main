{
  "cells": [
    {
      "cell_type": "code",
      "execution_count": null,
      "metadata": {
        "id": "3c316c0a"
      },
      "outputs": [],
      "source": [
        "import numpy as np\n",
        "import pandas as pd \n",
        "import cv2\n",
        "import os \n",
        "import tqdm\n",
        "import matplotlib.pyplot as plt\n",
        "from sklearn.model_selection import train_test_split\n",
        "import tensorflow as tf\n",
        "from tensorflow import keras\n",
        "import time"
      ],
      "id": "3c316c0a"
    },
    {
      "cell_type": "code",
      "execution_count": null,
      "metadata": {
        "colab": {
          "base_uri": "https://localhost:8080/"
        },
        "id": "IeYBLfkUGOqA",
        "outputId": "ebfa8314-5290-4221-df62-c49020d5cef7"
      },
      "outputs": [
        {
          "output_type": "stream",
          "name": "stdout",
          "text": [
            "Mounted at /content/drive\n"
          ]
        }
      ],
      "source": [
        "from google.colab import drive\n",
        "drive.mount('/content/drive')"
      ],
      "id": "IeYBLfkUGOqA"
    },
    {
      "cell_type": "markdown",
      "metadata": {
        "id": "UnNLlYfspj7z"
      },
      "source": [
        "# Functions"
      ],
      "id": "UnNLlYfspj7z"
    },
    {
      "cell_type": "code",
      "execution_count": null,
      "metadata": {
        "id": "d6F1vVxj-nQk"
      },
      "outputs": [],
      "source": [
        "def reshape(diff):\n",
        "  meanA = diff.mean(axis =3)\n",
        "  N,m,n = meanA.shape\n",
        "  return meanA.reshape((N,m*n))"
      ],
      "id": "d6F1vVxj-nQk"
    },
    {
      "cell_type": "code",
      "execution_count": null,
      "metadata": {
        "id": "VLwlcUcqZ_VH"
      },
      "outputs": [],
      "source": [
        "def predict_one_model_one_batch(sequence_part,model):\n",
        "    y_sample = model.predict(sequence_part[0])\n",
        "    y_template = model.predict(sequence_part[1])\n",
        "    diff = np.asarray(y_sample - y_template)\n",
        "    diff= reshape(diff)\n",
        "    return diff"
      ],
      "id": "VLwlcUcqZ_VH"
    },
    {
      "cell_type": "code",
      "execution_count": null,
      "metadata": {
        "id": "4VUxSVA5yg5B"
      },
      "outputs": [],
      "source": [
        "def predict_batches_diff(sequence,model1,model2,model3,model4,model5): \n",
        "  for i in range(len(sequence)): \n",
        "    diff1 = predict_one_model_one_batch(sequence[i],model1)\n",
        "    diff2 = predict_one_model_one_batch(sequence[i],model2)\n",
        "    diff3 = predict_one_model_one_batch(sequence[i],model3)\n",
        "    diff4 = predict_one_model_one_batch(sequence[i],model4)\n",
        "    diff5 = predict_one_model_one_batch(sequence[i],model5)\n",
        "    a= np.append(diff1,diff2,axis= 1)\n",
        "    b= np.append(diff3,diff4,axis= 1)\n",
        "    c= np.append(b,diff5,axis= 1)\n",
        "    diff= np.append(a,c,axis= 1)\n",
        "    sequence.change_batch_diff(diff,i)"
      ],
      "id": "4VUxSVA5yg5B"
    },
    {
      "cell_type": "code",
      "execution_count": null,
      "metadata": {
        "id": "u5-10GUZ5GpG"
      },
      "outputs": [],
      "source": [
        "def predict_5layers(seuqence,model):\n",
        "  model_S1 = keras.models.Model(model.input,model.layers[0].output)\n",
        "  model_S2 = keras.models.Model(model.input,model.layers[3].output)\n",
        "  model_S3 = keras.models.Model(model.input,model.layers[6].output)\n",
        "  model_S4 = keras.models.Model(model.input,model.layers[8].output)\n",
        "  model_S5 = model\n",
        "  sequence = predict_batches_diff(seuqence,model_S1,model_S2,model_S3,model_S4,model_S5)\n"
      ],
      "id": "u5-10GUZ5GpG"
    },
    {
      "cell_type": "code",
      "execution_count": null,
      "metadata": {
        "id": "H4aBl835s6UK"
      },
      "outputs": [],
      "source": [
        "#from keras.utils import Sequence\n",
        "from tensorflow.keras.utils import Sequence\n",
        "import math\n",
        "class DataSequence(Sequence):\n",
        "    \"\"\"\n",
        "    Keras Sequence object to train a model on larger-than-memory data.\n",
        "    \"\"\"\n",
        "    def __init__(self, df, batch_size):\n",
        "        #self.df = df # your pandas dataframe\n",
        "        self.bsz = batch_size # batch size\n",
        "        self.diff= np.zeros((len(df),4024))\n",
        "        # Take labels and a list of image locations in memory\n",
        "        self.labels = df['label'].values\n",
        "        self.sample = df[\"sample\"].tolist()\n",
        "        self.template = df[\"template\"].tolist()\n",
        "        self.sample_name = df[\"sample_name\"].tolist()\n",
        "    def __len__(self):\n",
        "        # compute number of batches to yield\n",
        "        return int(math.ceil(len(self.diff) / float(self.bsz)))\n",
        "\n",
        "    def on_epoch_end(self):\n",
        "        # Shuffles indexes after each epoch if in training mode\n",
        "        self.indexes = range(len(self.labels))\n",
        "\n",
        "    def get_batch_labels(self, idx):\n",
        "        # Fetch a batch of labels\n",
        "        return self.labels[idx * self.bsz: (idx + 1) * self.bsz]\n",
        "\n",
        "    def get_batch_features(self, idx):\n",
        "        # Fetch a batch of inputs\n",
        "        return np.array([im for im in self.sample[idx * self.bsz: (1 + idx) * self.bsz]]),np.array([im for im in self.template[idx * self.bsz: (1 + idx) * self.bsz]])\n",
        "    \n",
        "    def change_batch_diff(self,new_diff,idx):\n",
        "        self.diff[idx * self.bsz: (1 + idx) * self.bsz,:]  = new_diff\n",
        "\n",
        "    def get_batch_diff(self,idx): \n",
        "        return self.diff[idx * self.bsz: (1 + idx) * self.bsz]\n",
        "\n",
        "    def __getitem__(self, idx):\n",
        "        batch_s, batch_t = self.get_batch_features(idx)\n",
        "        batch_y = self.get_batch_labels(idx)\n",
        "        batch_diff = self.get_batch_diff(idx)\n",
        "        return batch_s,batch_t, batch_y,batch_diff"
      ],
      "id": "H4aBl835s6UK"
    },
    {
      "cell_type": "code",
      "execution_count": null,
      "metadata": {
        "id": "r-zEYM4yZcc3"
      },
      "outputs": [],
      "source": [
        "def match_images(template,sample_0,sample_1) : \n",
        "  #test \n",
        "    mismatched = sample_0.merge(template, how='inner', on='die_iml')\n",
        "    mismatched ['label'] = 0\n",
        "    matched = sample_1.merge(template, how='inner', on='die_iml')\n",
        "    matched['label']= 1\n",
        "    df = matched.append(mismatched)#.reset_index()\n",
        "    return df"
      ],
      "id": "r-zEYM4yZcc3"
    },
    {
      "cell_type": "code",
      "execution_count": null,
      "metadata": {
        "id": "s53ANFiuZCKU"
      },
      "outputs": [],
      "source": [
        "def create_matched_missmatched (df_1_template,df_0,df_1_sample):\n",
        "    # divide df_0 and df_1 sample to test and train \n",
        "    df_0_train,df_0_test = train_test_split(df_0, test_size= 0.2, random_state=13)\n",
        "    df_1_train,df_1_test = train_test_split(df_1_sample, test_size= 0.2, random_state=13)\n",
        "\n",
        "    # match tables according to die_iml\n",
        "    df_train = match_images(df_1_template,df_0_train,df_1_train)\n",
        "    df_train = df_train.sample(frac=1).reset_index(drop=True)\n",
        "    \n",
        "    df_test = match_images(df_1_template,df_0_test,df_1_test)\n",
        "    return df_train,df_test"
      ],
      "id": "s53ANFiuZCKU"
    },
    {
      "cell_type": "code",
      "execution_count": null,
      "metadata": {
        "id": "zrzbSLrRU4h7"
      },
      "outputs": [],
      "source": [
        "size = 224\n",
        "model = keras.models.Sequential([\n",
        "    keras.layers.Conv2D(filters=64, kernel_size=(11,11), strides=(4,4), activation='relu', input_shape=(size,size,1)),\n",
        "    keras.layers.BatchNormalization(),\n",
        "    keras.layers.MaxPool2D(pool_size=(3,3), strides=(2,2)),\n",
        "    keras.layers.Conv2D(filters=192, kernel_size=(5,5), strides=(1,1),padding=\"same\",  activation='relu'),\n",
        "    keras.layers.BatchNormalization(),\n",
        "    keras.layers.MaxPool2D(pool_size=(3,3), strides=(2,2)),\n",
        "    keras.layers.Conv2D(filters=384, kernel_size=(3,3), strides=(1,1), activation='relu', padding=\"same\"),\n",
        "    keras.layers.BatchNormalization(),\n",
        "    keras.layers.Conv2D(filters=256, kernel_size=(3,3), strides=(1,1), activation='relu', padding=\"same\"),\n",
        "    keras.layers.BatchNormalization(),\n",
        "    keras.layers.Conv2D(filters=256, kernel_size=(3,3), strides=(1,1), activation='relu', padding=\"same\"),\n",
        "    keras.layers.BatchNormalization(),\n",
        "])"
      ],
      "id": "zrzbSLrRU4h7"
    },
    {
      "cell_type": "code",
      "source": [
        "def generate_test_dataset(path_file,df,size):     \n",
        "    images = []\n",
        "    dies_imls = []\n",
        "    noms = []\n",
        "    dies = []\n",
        "    dataset = []\n",
        "    for idx,row in df.iterrows():\n",
        "                nom_img = row.images\n",
        "                img = os.path.join(path_file,nom_img) \n",
        "                image = cv2.imread(img,cv2.IMREAD_GRAYSCALE)/255\n",
        "                image = cv2.resize(image,(size,size))\n",
        "                die_iml = nom_img[18],nom_img[20]\n",
        "                die = nom_img[18]\n",
        "                images.append(image)\n",
        "                dies_imls.append(die_iml)\n",
        "                noms.append(nom_img)\n",
        "                dies.append(die)\n",
        "\n",
        "                if idx%500==0 : \n",
        "                   print(idx)\n",
        "                   \n",
        "    dataset.append(images)\n",
        "    dataset.append(noms)\n",
        "    dataset.append(dies_imls)\n",
        "    dataset.append(dies)\n",
        "    df_test = pd.DataFrame(dataset).T\n",
        "    df_test = df_test.rename(columns={0: \"sample\",1:\"sample_name\", 2: \"die_iml\",3: 'die'})\n",
        "    df_test ['label'] = df['labels'].astype(int)\n",
        "    return df_test"
      ],
      "metadata": {
        "id": "U1m_ntDeD8MY"
      },
      "id": "U1m_ntDeD8MY",
      "execution_count": null,
      "outputs": []
    },
    {
      "cell_type": "markdown",
      "metadata": {
        "id": "x9k72BIhwmk_"
      },
      "source": [
        "# Generating df_0 df_1\n",
        "This section is dedicated to create df_0 and df_1 dataframes that carry images and informations of deffected and non deffected cards from all dies and that for the train set. These dataframes where generated only once though this project and have been saved as pickle files. If data is already generated, move directly to section \"load pickle files\"."
      ],
      "id": "x9k72BIhwmk_"
    },
    {
      "cell_type": "code",
      "execution_count": null,
      "metadata": {
        "colab": {
          "base_uri": "https://localhost:8080/"
        },
        "id": "GxV-RdIcKc68",
        "outputId": "11668ba0-a780-4354-a375-f7a6821dd812"
      },
      "outputs": [
        {
          "output_type": "stream",
          "name": "stdout",
          "text": [
            "\n",
            "UNRAR 5.50 freeware      Copyright (c) 1993-2017 Alexander Roshal\n",
            "\n",
            "\n",
            "Extracting from /content/drive/MyDrive/PFE_2/Data_challenge.rar\n",
            "\n",
            "Creating    Data_challenge                                            OK\n",
            "Extracting  Data_challenge/Public_Indexes.csv                            \b\b\b\b  0%\b\b\b\b\b  OK \n",
            "Extracting  Data_challenge/readmefile.txt                                \b\b\b\b  0%\b\b\b\b\b  OK \n",
            "Creating    Data_challenge/x_test                                     OK\n",
            "Extracting  Data_challenge/x_test/AE00008_080949_00_2_2_2001.jpg         \b\b\b\b  0%\b\b\b\b\b  OK \n",
            "Extracting  Data_challenge/x_test/AE00008_091811_00_2_1_2001.jpg         \b\b\b\b  0%\b\b\b\b\b  OK \n",
            "Extracting  Data_challenge/x_test/AE00008_113034_00_4_2_2001.jpg         \b\b\b\b  0%\b\b\b\b\b  OK \n",
            "Extracting  Data_challenge/x_test/AE00018_000155_00_2_4_2001.jpg         \b\b\b\b  0%\b\b\b\b\b  OK \n",
            "Extracting  Data_challenge/x_test/AE00018_022802_00_1_1_2001.jpg         \b\b\b\b  0%\b\b\b\b\b  OK \n",
            "Extracting  Data_challenge/x_test/AE00018_023038_00_1_2_2001.jpg         \b\b\b\b  0%\b\b\b\b\b  OK \n",
            "Extracting  Data_challenge/x_test/AE00018_023038_00_2_2_2001.jpg         \b\b\b\b  0%\b\b\b\b\b  OK \n",
            "Extracting  Data_challenge/x_test/AE00018_023038_00_4_1_2001.jpg         \b\b\b\b  0%\b\b\b\b\b  OK \n",
            "Extracting  Data_challenge/x_test/AE00018_030248_00_1_2_2001.jpg         \b\b\b\b  0%\b\b\b\b\b  OK \n",
            "Extracting  Data_challenge/x_test/AE00018_030248_00_2_2_2001.jpg         \b\b\b\b  0%\b\b\b\b\b  OK \n",
            "Extracting  Data_challenge/x_test/AE00018_041540_00_1_2_2001.jpg         \b\b\b\b  0%\b\b\b\b\b  OK \n",
            "Extracting  Data_challenge/x_test/AE00018_073906_00_4_2_2001.jpg         \b\b\b\b  0%\b\b\b\b\b  OK \n",
            "Extracting  Data_challenge/x_test/AE00018_074640_00_2_3_2001.jpg         \b\b\b\b  0%\b\b\b\b\b  OK \n",
            "Extracting  Data_challenge/x_test/AE00018_074640_00_2_4_2001.jpg         \b\b\b\b  0%\b\b\b\b\b  OK \n",
            "Extracting  Data_challenge/x_test/AE00018_090150_00_2_4_2001.jpg         \b\b\b\b  0%\b\b\b\b\b  OK \n",
            "Extracting  Data_challenge/x_test/AE00018_094251_00_2_1_2001.jpg         \b\b\b\b  0%\b\b\b\b\b  OK \n",
            "Extracting  Data_challenge/x_test/AE00018_094251_00_2_3_2001.jpg         \b\b\b\b  0%\b\b\b\b\b  OK \n",
            "Extracting  Data_challenge/x_test/AE00018_104853_00_2_4_2001.jpg         \b\b\b\b  0%\b\b\b\b\b  OK \n",
            "Extracting  Data_challenge/x_test/AE00018_143729_00_2_1_2001.jpg         \b\b\b\b  0%\b\b\b\b\b  OK \n",
            "Extracting  Data_challenge/x_test/AE00018_143729_00_2_2_2001.jpg         \b\b\b\b  0%\b\b\b\b\b  OK \n",
            "Extracting  Data_challenge/x_test/AE00018_143729_00_3_2_2001.jpg         \b\b\b\b  0%\b\b\b\b\b  OK \n",
            "Extracting  Data_challenge/x_test/AE00018_143756_00_3_1_2001.jpg         \b\b\b\b  0%\b\b\b\b\b  OK \n",
            "Extracting  Data_challenge/x_test/AE00018_150658_00_2_1_2001.jpg         \b\b\b\b  0%\b\b\b\b\b  OK \n",
            "Extracting  Data_challenge/x_test/AE00018_153335_00_1_2_2001.jpg         \b\b\b\b  0%\b\b\b\b\b  OK \n",
            "Extracting  Data_challenge/x_test/AE00018_154020_00_2_2_2001.jpg         \b\b\b\b  0%\b\b\b\b\b  OK \n",
            "Extracting  Data_challenge/x_test/AE00018_154020_00_2_4_2001.jpg         \b\b\b\b  0%\b\b\b\b\b  OK \n",
            "Extracting  Data_challenge/x_test/AE00018_160727_00_2_4_2001.jpg         \b\b\b\b  0%\b\b\b\b\b  OK \n",
            "Extracting  Data_challenge/x_test/AE00018_165400_00_3_2_2001.jpg         \b\b\b\b  0%\b\b\b\b\b  OK \n",
            "Extracting  Data_challenge/x_test/AE00018_181420_00_3_2_2001.jpg         \b\b\b\b  0%\b\b\b\b\b  OK \n",
            "Extracting  Data_challenge/x_test/AE00018_185309_00_1_1_2001.jpg         \b\b\b\b  0%\b\b\b\b\b  OK \n",
            "Extracting  Data_challenge/x_test/AE00018_185309_00_4_3_2001.jpg         \b\b\b\b  0%\b\b\b\b\b  OK \n",
            "Extracting  Data_challenge/x_test/AE00018_185309_00_4_4_2001.jpg         \b\b\b\b  0%\b\b\b\b\b  OK \n",
            "Extracting  Data_challenge/x_test/AE00018_211439_00_3_3_2001.jpg         \b\b\b\b  0%\b\b\b\b\b  OK \n",
            "Extracting  Data_challenge/x_test/AE00018_233445_00_2_2_2001.jpg         \b\b\b\b  0%\b\b\b\b\b  OK \n",
            "Extracting  Data_challenge/x_test/AE00018_234752_00_2_1_2001.jpg         \b\b\b\b  0%\b\b\b\b\b  OK \n",
            "Extracting  Data_challenge/x_test/AE00018_234752_00_3_4_2001.jpg         \b\b\b\b  0%\b\b\b\b\b  OK \n",
            "Extracting  Data_challenge/x_test/AE00022_003638_00_2_2_2001.jpg         \b\b\b\b  0%\b\b\b\b\b  OK \n",
            "Extracting  Data_challenge/x_test/AE00022_010711_00_2_4_2001.jpg         \b\b\b\b  0%\b\b\b\b\b  OK \n",
            "Extracting  Data_challenge/x_test/AE00022_043557_00_3_2_2001.jpg         \b\b\b\b  0%\b\b\b\b\b  OK \n",
            "Extracting  Data_challenge/x_test/AE00022_045626_00_2_4_2001.jpg         \b\b\b\b  0%\b\b\b\b\b  OK \n",
            "Extracting  Data_challenge/x_test/AE00022_051800_00_2_4_2001.jpg         \b\b\b\b  0%\b\b\b\b\b  OK \n",
            "Extracting  Data_challenge/x_test/AE00022_075658_00_2_1_2001.jpg         \b\b\b\b  0%\b\b\b\b\b  OK \n",
            "Extracting  Data_challenge/x_test/AE00022_092213_00_2_1_2001.jpg         \b\b\b\b  0%\b\b\b\b\b  OK \n",
            "Extracting  Data_challenge/x_test/AE00022_092213_00_2_3_2001.jpg         \b\b\b\b  0%\b\b\b\b\b  OK \n",
            "Extracting  Data_challenge/x_test/AE00022_094107_00_2_1_2001.jpg         \b\b\b\b  0%\b\b\b\b\b  OK \n",
            "Extracting  Data_challenge/x_test/AE00022_095817_00_1_1_2001.jpg         \b\b\b\b  0%\b\b\b\b\b  OK \n",
            "Extracting  Data_challenge/x_test/AE00022_112544_00_2_3_2001.jpg         \b\b\b\b  0%\b\b\b\b\b  OK \n",
            "Extracting  Data_challenge/x_test/AE00022_112544_00_2_4_2001.jpg         \b\b\b\b  0%\b\b\b\b\b  OK \n",
            "Extracting  Data_challenge/x_test/AE00022_115418_00_2_2_2001.jpg         \b\b\b\b  0%\b\b\b\b\b  OK \n",
            "Extracting  Data_challenge/x_test/AE00022_142229_00_2_4_2001.jpg         \b\b\b\b  0%\b\b\b\b\b  OK \n",
            "Extracting  Data_challenge/x_test/AE00022_152339_00_3_3_2001.jpg         \b\b\b\b  0%\b\b\b\b\b  OK \n",
            "Extracting  Data_challenge/x_test/AE00022_152339_00_4_4_2001.jpg         \b\b\b\b  0%\b\b\b\b\b  OK \n",
            "Extracting  Data_challenge/x_test/AE00022_160258_00_1_2_2001.jpg         \b\b\b\b  0%\b\b\b\b\b  OK \n",
            "Extracting  Data_challenge/x_test/AE00022_160258_00_2_2_2001.jpg         \b\b\b\b  0%\b\b\b\b\b  OK \n",
            "Extracting  Data_challenge/x_test/AE00022_163539_00_1_1_2001.jpg         \b\b\b\b  0%\b\b\b\b\b  OK \n",
            "Extracting  Data_challenge/x_test/AE00022_193013_00_3_3_2001.jpg         \b\b\b\b  0%\b\b\b\b\b  OK \n",
            "Extracting  Data_challenge/x_test/AE00022_223525_00_4_1_2001.jpg         \b\b\b\b  0%\b\b\b\b\b  OK \n",
            "Extracting  Data_challenge/x_test/AE00022_230921_00_4_3_2001.jpg         \b\b\b\b  0%\b\b\b\b\b  OK \n",
            "Extracting  Data_challenge/x_test/AE00072_000926_00_2_4_2001.jpg         \b\b\b\b  0%\b\b\b\b\b  OK \n",
            "Extracting  Data_challenge/x_test/AE00072_010655_00_2_1_2001.jpg         \b\b\b\b  0%\b\b\b\b\b  OK \n",
            "Extracting  Data_challenge/x_test/AE00072_011247_00_3_2_2001.jpg         \b\b\b\b  0%\b\b\b\b\b  OK \n",
            "Extracting  Data_challenge/x_test/AE00072_012835_00_3_4_2001.jpg         \b\b\b\b  0%\b\b\b\b\b  OK \n",
            "Extracting  Data_challenge/x_test/AE00072_025217_00_1_1_2001.jpg         \b\b\b\b  0%\b\b\b\b\b  OK \n",
            "Extracting  Data_challenge/x_test/AE00072_033653_00_4_2_2001.jpg         \b\b\b\b  0%\b\b\b\b\b  OK \n",
            "Extracting  Data_challenge/x_test/AE00072_043807_00_2_1_2001.jpg         \b\b\b\b  0%\b\b\b\b\b  OK \n",
            "Extracting  Data_challenge/x_test/AE00072_043807_00_2_4_2001.jpg         \b\b\b\b  0%\b\b\b\b\b  OK \n",
            "Extracting  Data_challenge/x_test/AE00072_085809_00_2_3_2001.jpg         \b\b\b\b  0%\b\b\b\b\b  OK \n",
            "Extracting  Data_challenge/x_test/AE00072_111409_00_2_1_2001.jpg         \b\b\b\b  0%\b\b\b\b\b  OK \n",
            "Extracting  Data_challenge/x_test/AE00072_114350_00_3_4_2001.jpg         \b\b\b\b  0%\b\b\b\b\b  OK \n",
            "Extracting  Data_challenge/x_test/AE00072_121445_00_2_1_2001.jpg         \b\b\b\b  0%\b\b\b\b\b  OK \n",
            "Extracting  Data_challenge/x_test/AE00072_131041_00_1_2_2001.jpg         \b\b\b\b  0%\b\b\b\b\b  OK \n",
            "Extracting  Data_challenge/x_test/AE00072_131041_00_2_2_2001.jpg         \b\b\b\b  0%\b\b\b\b\b  OK \n",
            "Extracting  Data_challenge/x_test/AE00072_132533_00_2_2_2001.jpg         \b\b\b\b  0%\b\b\b\b\b  OK \n",
            "Extracting  Data_challenge/x_test/AE00072_135227_00_2_4_2001.jpg         \b\b\b\b  0%\b\b\b\b\b  OK \n",
            "Extracting  Data_challenge/x_test/AE00072_144630_00_2_3_2001.jpg         \b\b\b\b  0%\b\b\b\b\b  OK \n",
            "Extracting  Data_challenge/x_test/AE00072_145326_00_1_1_2001.jpg         \b\b\b\b  0%\b\b\b\b\b  OK \n",
            "Extracting  Data_challenge/x_test/AE00072_145326_00_3_3_2001.jpg         \b\b\b\b  0%\b\b\b\b\b  OK \n",
            "Extracting  Data_challenge/x_test/AE00072_151857_00_2_2_2001.jpg         \b\b\b\b  0%\b\b\b\b\b  OK \n",
            "Extracting  Data_challenge/x_test/AE00072_154601_00_3_4_2001.jpg         \b\b\b\b  0%\b\b\b\b\b  OK \n",
            "Extracting  Data_challenge/x_test/AE00072_162431_00_2_1_2001.jpg         \b\b\b\b  0%\b\b\b\b\b  OK \n",
            "Extracting  Data_challenge/x_test/AE00072_163639_00_2_2_2001.jpg         \b\b\b\b  0%\b\b\b\b\b  OK \n",
            "Extracting  Data_challenge/x_test/AE00072_171453_00_2_3_2001.jpg         \b\b\b\b  0%\b\b\b\b\b  OK \n",
            "Extracting  Data_challenge/x_test/AE00072_171453_00_3_3_2001.jpg         \b\b\b\b  0%\b\b\b\b\b  OK \n",
            "Extracting  Data_challenge/x_test/AE00072_190012_00_2_1_2001.jpg         \b\b\b\b  0%\b\b\b\b\b  OK \n",
            "Extracting  Data_challenge/x_test/AE00072_191813_00_3_1_2001.jpg         \b\b\b\b  0%\b\b\b\b\b  OK \n",
            "Extracting  Data_challenge/x_test/AE00072_191813_00_3_4_2001.jpg         \b\b\b\b  0%\b\b\b\b\b  OK \n",
            "Extracting  Data_challenge/x_test/AE00072_193420_00_2_3_2001.jpg         \b\b\b\b  0%\b\b\b\b\b  OK \n",
            "Extracting  Data_challenge/x_test/AE00072_202157_00_3_4_2001.jpg         \b\b\b\b  0%\b\b\b\b\b  OK \n",
            "Extracting  Data_challenge/x_test/AE00072_204704_00_2_3_2001.jpg         \b\b\b\b  0%\b\b\b\b\b  OK \n",
            "Extracting  Data_challenge/x_test/AE00072_211959_00_3_4_2001.jpg         \b\b\b\b  0%\b\b\b\b\b  OK \n",
            "Extracting  Data_challenge/x_test/AE00072_213935_00_2_2_2001.jpg         \b\b\b\b  0%\b\b\b\b\b  OK \n",
            "Extracting  Data_challenge/x_test/AE00072_213935_00_2_3_2001.jpg         \b\b\b\b  0%\b\b\b\b\b  OK \n",
            "Extracting  Data_challenge/x_test/AE00072_215338_00_4_3_2001.jpg         \b\b\b\b  0%\b\b\b\b\b  OK \n",
            "Extracting  Data_challenge/x_test/AE00072_220732_00_2_2_2001.jpg         \b\b\b\b  0%\b\b\b\b\b  OK \n",
            "Extracting  Data_challenge/x_test/AE00072_222107_00_2_2_2001.jpg         \b\b\b\b  0%\b\b\b\b\b  OK \n",
            "Extracting  Data_challenge/x_test/AE00072_223331_00_2_3_2001.jpg         \b\b\b\b  0%\b\b\b\b\b  OK \n",
            "Extracting  Data_challenge/x_test/AE00072_224950_00_2_1_2001.jpg         \b\b\b\b  0%\b\b\b\b\b  OK \n",
            "Extracting  Data_challenge/x_test/AE00072_224950_00_3_3_2001.jpg         \b\b\b\b  0%\b\b\b\b\b  OK \n",
            "Extracting  Data_challenge/x_test/AE00072_230302_00_3_2_2001.jpg         \b\b\b\b  0%\b\b\b\b\b  OK \n",
            "Extracting  Data_challenge/x_test/AE00072_232135_00_3_3_2001.jpg         \b\b\b\b  0%\b\b\b\b\b  OK \n",
            "Extracting  Data_challenge/x_test/AE00118_101543_00_1_1_2001.jpg         \b\b\b\b  0%\b\b\b\b\b  OK \n",
            "Extracting  Data_challenge/x_test/AE00132_094818_00_3_3_2001.jpg         \b\b\b\b  0%\b\b\b\b\b  OK \n",
            "Extracting  Data_challenge/x_test/AE00132_094818_00_4_3_2001.jpg         \b\b\b\b  0%\b\b\b\b\b  OK \n",
            "Extracting  Data_challenge/x_test/AE00133_102040_00_4_2_2001.jpg         \b\b\b\b  0%\b\b\b\b\b  OK \n",
            "Extracting  Data_challenge/x_test/AE00133_112615_00_3_2_2001.jpg         \b\b\b\b  0%\b\b\b\b\b  OK \n",
            "Extracting  Data_challenge/x_test/AE00133_112615_00_3_3_2001.jpg         \b\b\b\b  1%\b\b\b\b\b  OK \n",
            "Extracting  Data_challenge/x_test/AE00141_133624_00_2_4_2001.jpg         \b\b\b\b  1%\b\b\b\b\b  OK \n",
            "Extracting  Data_challenge/x_test/AE00182_002540_00_2_2_2001.jpg         \b\b\b\b  1%\b\b\b\b\b  OK \n",
            "Extracting  Data_challenge/x_test/AE00182_003327_00_3_2_2001.jpg         \b\b\b\b  1%\b\b\b\b\b  OK \n",
            "Extracting  Data_challenge/x_test/AE00182_014202_00_4_1_2001.jpg         \b\b\b\b  1%\b\b\b\b\b  OK \n",
            "Extracting  Data_challenge/x_test/AE00182_023321_00_2_2_2001.jpg         \b\b\b\b  1%\b\b\b\b\b  OK \n",
            "Extracting  Data_challenge/x_test/AE00182_023321_00_3_4_2001.jpg         \b\b\b\b  1%\b\b\b\b\b  OK \n",
            "Extracting  Data_challenge/x_test/AE00182_023843_00_2_1_2001.jpg         \b\b\b\b  1%\b\b\b\b\b  OK \n",
            "Extracting  Data_challenge/x_test/AE00182_030834_00_1_2_2001.jpg         \b\b\b\b  1%\b\b\b\b\b  OK \n",
            "Extracting  Data_challenge/x_test/AE00182_030834_00_2_2_2001.jpg         \b\b\b\b  1%\b\b\b\b\b  OK \n",
            "Extracting  Data_challenge/x_test/AE00182_033619_00_2_2_2001.jpg         \b\b\b\b  1%\b\b\b\b\b  OK \n",
            "Extracting  Data_challenge/x_test/AE00182_033810_00_3_1_2001.jpg         \b\b\b\b  1%\b\b\b\b\b  OK \n",
            "Extracting  Data_challenge/x_test/AE00182_033810_00_3_2_2001.jpg         \b\b\b\b  1%\n",
            "User break\n",
            "\n",
            "Program aborted\n"
          ]
        }
      ],
      "source": [
        "!unrar x \"/content/drive/MyDrive/PFE_2/Data_challenge.rar\"\n"
      ],
      "id": "GxV-RdIcKc68"
    },
    {
      "cell_type": "code",
      "execution_count": null,
      "metadata": {
        "id": "8e1212ef"
      },
      "outputs": [],
      "source": [
        "path = \"/content/Data_challenge\"\n",
        "train_file = os.path.join(path,\"x_train\")\n",
        "test_file = os.path.join(path, \"x_test\")"
      ],
      "id": "8e1212ef"
    },
    {
      "cell_type": "code",
      "execution_count": null,
      "metadata": {
        "id": "bad733a2"
      },
      "outputs": [],
      "source": [
        "def generate_class_dataset(path_file,file,size):     \n",
        "    classe = os.path.join(path_file,file)\n",
        "    images = []\n",
        "    dies_imls = []\n",
        "    noms = []\n",
        "    dies = [] \n",
        "    dataset = []\n",
        "    i=0\n",
        "    print(\"classe:\",file)\n",
        "    for nom_img in os.listdir(classe):\n",
        "                img = os.path.join(classe,nom_img)\n",
        "                image = cv2.imread(img,cv2.IMREAD_GRAYSCALE)/255\n",
        "                image = cv2.resize(image,(size,size))\n",
        "                die_iml = nom_img[18],nom_img[20]\n",
        "                die = nom_img[18]\n",
        "                images.append(image)\n",
        "                dies_imls.append(die_iml)\n",
        "                noms.append(nom_img)\n",
        "                dies.append(die)\n",
        "                i = i+1\n",
        "                if i %1000 ==0 : \n",
        "                   print(i)\n",
        "    \n",
        "    dataset.append(images)\n",
        "    dataset.append(noms)\n",
        "    dataset.append(dies_imls)\n",
        "    dataset.append(dies)\n",
        "    \n",
        "    print(\"generation for classe done\")\n",
        "    return dataset \n"
      ],
      "id": "bad733a2"
    },
    {
      "cell_type": "code",
      "execution_count": null,
      "metadata": {
        "colab": {
          "base_uri": "https://localhost:8080/"
        },
        "id": "ARby0gzKY9Ye",
        "outputId": "17456ede-da06-4b61-b78b-df940a22e0fe"
      },
      "outputs": [
        {
          "data": {
            "text/plain": [
              "248"
            ]
          },
          "execution_count": 46,
          "metadata": {},
          "output_type": "execute_result"
        }
      ],
      "source": [
        "124*2"
      ],
      "id": "ARby0gzKY9Ye"
    },
    {
      "cell_type": "code",
      "execution_count": null,
      "metadata": {
        "colab": {
          "base_uri": "https://localhost:8080/"
        },
        "id": "2f01849c",
        "outputId": "4dbfcd6d-0f54-4545-c487-c8ecbb8b1a91"
      },
      "outputs": [
        {
          "name": "stdout",
          "output_type": "stream",
          "text": [
            "classe: 1\n",
            "1000\n",
            "2000\n",
            "3000\n",
            "4000\n",
            "generation for classe done\n",
            "classe: 2\n",
            "1000\n",
            "2000\n",
            "3000\n",
            "4000\n",
            "5000\n",
            "6000\n",
            "generation for classe done\n"
          ]
        }
      ],
      "source": [
        "class_0_dataset = generate_class_dataset(train_file,'1',224)\n",
        "class_1_dataset = generate_class_dataset(train_file,'2',224)"
      ],
      "id": "2f01849c"
    },
    {
      "cell_type": "code",
      "execution_count": null,
      "metadata": {
        "id": "9d94f2a3"
      },
      "outputs": [],
      "source": [
        "#prep defective cards' list of names according to die_iml ( samples)\n",
        "df_0 = pd.DataFrame(class_0_dataset).T\n",
        "df_0 = df_0.rename(columns={0: \"sample\",1:\"sample_name\", 2: \"die_iml\",3: 'die'})\n",
        "\n",
        "#prep non defective cards' list of names according to die_iml\n",
        "df_1 = pd.DataFrame(class_1_dataset).T\n",
        "# divide to samples and templates \n",
        "df_1_sample, df_1_template = train_test_split(df_1, test_size=0.5,random_state=13)\n",
        "df_1_template = df_1_template.rename(columns={0:\"template\", 1: \"template_name\", 2: \"die_iml\",3:'die'})\n",
        "#df_1_template = df_1_template.drop(columns=3)\n",
        "df_1_sample = df_1_sample.rename(columns={0: \"sample\",1:\"sample_name\", 2: \"die_iml\",3: 'die'})"
      ],
      "id": "9d94f2a3"
    },
    {
      "cell_type": "code",
      "execution_count": null,
      "metadata": {
        "id": "wlTh0hyqbuUE"
      },
      "outputs": [],
      "source": [
        "#save\n",
        "with open('/content/drive/MyDrive/PFE_2/df_0_224.pkl', 'wb') as f:\n",
        "  pickle.dump(df_0, f)\n",
        "with open('/content/drive/MyDrive/PFE_2/df_1_sample_224.pkl', 'wb') as f:\n",
        "  pickle.dump(df_1_sample, f)\n",
        "with open('/content/drive/MyDrive/PFE_2/df_1_template_224.pkl', 'wb') as f:\n",
        "  pickle.dump(df_1_template, f)"
      ],
      "id": "wlTh0hyqbuUE"
    },
    {
      "cell_type": "markdown",
      "metadata": {
        "id": "JkzffnxWwr8M"
      },
      "source": [
        "# Load pickle files of df_0 and df_1"
      ],
      "id": "JkzffnxWwr8M"
    },
    {
      "cell_type": "code",
      "execution_count": null,
      "metadata": {
        "id": "TEsCuRTwcged"
      },
      "outputs": [],
      "source": [
        "import pickle\n",
        "#load\n",
        "df_0 = pd.read_pickle(\"/content/drive/MyDrive/PFE_2/df_0_224.pkl\")\n",
        "\n",
        "df_1_sample = pd.read_pickle(\"/content/drive/MyDrive/PFE_2/df_1_sample_224.pkl\")"
      ],
      "id": "TEsCuRTwcged"
    },
    {
      "cell_type": "code",
      "execution_count": null,
      "metadata": {
        "id": "HvyvgKuk8c-t"
      },
      "outputs": [],
      "source": [
        "import pickle\n",
        "#load\n",
        "df_1_template = pd.read_pickle(\"/content/drive/MyDrive/PFE_2/df_1_template_224.pkl\")"
      ],
      "id": "HvyvgKuk8c-t"
    },
    {
      "cell_type": "code",
      "execution_count": null,
      "metadata": {
        "colab": {
          "base_uri": "https://localhost:8080/",
          "height": 112
        },
        "id": "a60399b0",
        "outputId": "f68a6174-a4d4-403e-c43a-37f0ee097622"
      },
      "outputs": [
        {
          "output_type": "execute_result",
          "data": {
            "text/html": [
              "\n",
              "  <div id=\"df-84ea2c1e-5466-457e-b815-737fd9e804ed\">\n",
              "    <div class=\"colab-df-container\">\n",
              "      <div>\n",
              "<style scoped>\n",
              "    .dataframe tbody tr th:only-of-type {\n",
              "        vertical-align: middle;\n",
              "    }\n",
              "\n",
              "    .dataframe tbody tr th {\n",
              "        vertical-align: top;\n",
              "    }\n",
              "\n",
              "    .dataframe thead th {\n",
              "        text-align: right;\n",
              "    }\n",
              "</style>\n",
              "<table border=\"1\" class=\"dataframe\">\n",
              "  <thead>\n",
              "    <tr style=\"text-align: right;\">\n",
              "      <th></th>\n",
              "      <th>sample</th>\n",
              "      <th>sample_name</th>\n",
              "      <th>die_iml</th>\n",
              "    </tr>\n",
              "    <tr>\n",
              "      <th>die</th>\n",
              "      <th></th>\n",
              "      <th></th>\n",
              "      <th></th>\n",
              "    </tr>\n",
              "  </thead>\n",
              "  <tbody>\n",
              "    <tr>\n",
              "      <th>1</th>\n",
              "      <td>501</td>\n",
              "      <td>501</td>\n",
              "      <td>501</td>\n",
              "    </tr>\n",
              "  </tbody>\n",
              "</table>\n",
              "</div>\n",
              "      <button class=\"colab-df-convert\" onclick=\"convertToInteractive('df-84ea2c1e-5466-457e-b815-737fd9e804ed')\"\n",
              "              title=\"Convert this dataframe to an interactive table.\"\n",
              "              style=\"display:none;\">\n",
              "        \n",
              "  <svg xmlns=\"http://www.w3.org/2000/svg\" height=\"24px\"viewBox=\"0 0 24 24\"\n",
              "       width=\"24px\">\n",
              "    <path d=\"M0 0h24v24H0V0z\" fill=\"none\"/>\n",
              "    <path d=\"M18.56 5.44l.94 2.06.94-2.06 2.06-.94-2.06-.94-.94-2.06-.94 2.06-2.06.94zm-11 1L8.5 8.5l.94-2.06 2.06-.94-2.06-.94L8.5 2.5l-.94 2.06-2.06.94zm10 10l.94 2.06.94-2.06 2.06-.94-2.06-.94-.94-2.06-.94 2.06-2.06.94z\"/><path d=\"M17.41 7.96l-1.37-1.37c-.4-.4-.92-.59-1.43-.59-.52 0-1.04.2-1.43.59L10.3 9.45l-7.72 7.72c-.78.78-.78 2.05 0 2.83L4 21.41c.39.39.9.59 1.41.59.51 0 1.02-.2 1.41-.59l7.78-7.78 2.81-2.81c.8-.78.8-2.07 0-2.86zM5.41 20L4 18.59l7.72-7.72 1.47 1.35L5.41 20z\"/>\n",
              "  </svg>\n",
              "      </button>\n",
              "      \n",
              "  <style>\n",
              "    .colab-df-container {\n",
              "      display:flex;\n",
              "      flex-wrap:wrap;\n",
              "      gap: 12px;\n",
              "    }\n",
              "\n",
              "    .colab-df-convert {\n",
              "      background-color: #E8F0FE;\n",
              "      border: none;\n",
              "      border-radius: 50%;\n",
              "      cursor: pointer;\n",
              "      display: none;\n",
              "      fill: #1967D2;\n",
              "      height: 32px;\n",
              "      padding: 0 0 0 0;\n",
              "      width: 32px;\n",
              "    }\n",
              "\n",
              "    .colab-df-convert:hover {\n",
              "      background-color: #E2EBFA;\n",
              "      box-shadow: 0px 1px 2px rgba(60, 64, 67, 0.3), 0px 1px 3px 1px rgba(60, 64, 67, 0.15);\n",
              "      fill: #174EA6;\n",
              "    }\n",
              "\n",
              "    [theme=dark] .colab-df-convert {\n",
              "      background-color: #3B4455;\n",
              "      fill: #D2E3FC;\n",
              "    }\n",
              "\n",
              "    [theme=dark] .colab-df-convert:hover {\n",
              "      background-color: #434B5C;\n",
              "      box-shadow: 0px 1px 3px 1px rgba(0, 0, 0, 0.15);\n",
              "      filter: drop-shadow(0px 1px 2px rgba(0, 0, 0, 0.3));\n",
              "      fill: #FFFFFF;\n",
              "    }\n",
              "  </style>\n",
              "\n",
              "      <script>\n",
              "        const buttonEl =\n",
              "          document.querySelector('#df-84ea2c1e-5466-457e-b815-737fd9e804ed button.colab-df-convert');\n",
              "        buttonEl.style.display =\n",
              "          google.colab.kernel.accessAllowed ? 'block' : 'none';\n",
              "\n",
              "        async function convertToInteractive(key) {\n",
              "          const element = document.querySelector('#df-84ea2c1e-5466-457e-b815-737fd9e804ed');\n",
              "          const dataTable =\n",
              "            await google.colab.kernel.invokeFunction('convertToInteractive',\n",
              "                                                     [key], {});\n",
              "          if (!dataTable) return;\n",
              "\n",
              "          const docLinkHtml = 'Like what you see? Visit the ' +\n",
              "            '<a target=\"_blank\" href=https://colab.research.google.com/notebooks/data_table.ipynb>data table notebook</a>'\n",
              "            + ' to learn more about interactive tables.';\n",
              "          element.innerHTML = '';\n",
              "          dataTable['output_type'] = 'display_data';\n",
              "          await google.colab.output.renderOutput(dataTable, element);\n",
              "          const docLink = document.createElement('div');\n",
              "          docLink.innerHTML = docLinkHtml;\n",
              "          element.appendChild(docLink);\n",
              "        }\n",
              "      </script>\n",
              "    </div>\n",
              "  </div>\n",
              "  "
            ],
            "text/plain": [
              "     sample  sample_name  die_iml\n",
              "die                              \n",
              "1       501          501      501"
            ]
          },
          "metadata": {},
          "execution_count": 18
        }
      ],
      "source": [
        "df_1_sample.groupby('die').count()"
      ],
      "id": "a60399b0"
    },
    {
      "cell_type": "code",
      "execution_count": null,
      "metadata": {
        "colab": {
          "base_uri": "https://localhost:8080/",
          "height": 112
        },
        "id": "_hgpMskG1BUt",
        "outputId": "5bb8d0fd-43a3-4ca9-f17b-bfa76ae251d5"
      },
      "outputs": [
        {
          "output_type": "execute_result",
          "data": {
            "text/html": [
              "\n",
              "  <div id=\"df-5ab47e78-9f4c-4a72-a3a9-443d10026a4c\">\n",
              "    <div class=\"colab-df-container\">\n",
              "      <div>\n",
              "<style scoped>\n",
              "    .dataframe tbody tr th:only-of-type {\n",
              "        vertical-align: middle;\n",
              "    }\n",
              "\n",
              "    .dataframe tbody tr th {\n",
              "        vertical-align: top;\n",
              "    }\n",
              "\n",
              "    .dataframe thead th {\n",
              "        text-align: right;\n",
              "    }\n",
              "</style>\n",
              "<table border=\"1\" class=\"dataframe\">\n",
              "  <thead>\n",
              "    <tr style=\"text-align: right;\">\n",
              "      <th></th>\n",
              "      <th>sample</th>\n",
              "      <th>sample_name</th>\n",
              "      <th>die_iml</th>\n",
              "    </tr>\n",
              "    <tr>\n",
              "      <th>die</th>\n",
              "      <th></th>\n",
              "      <th></th>\n",
              "      <th></th>\n",
              "    </tr>\n",
              "  </thead>\n",
              "  <tbody>\n",
              "    <tr>\n",
              "      <th>1</th>\n",
              "      <td>1727</td>\n",
              "      <td>1727</td>\n",
              "      <td>1727</td>\n",
              "    </tr>\n",
              "  </tbody>\n",
              "</table>\n",
              "</div>\n",
              "      <button class=\"colab-df-convert\" onclick=\"convertToInteractive('df-5ab47e78-9f4c-4a72-a3a9-443d10026a4c')\"\n",
              "              title=\"Convert this dataframe to an interactive table.\"\n",
              "              style=\"display:none;\">\n",
              "        \n",
              "  <svg xmlns=\"http://www.w3.org/2000/svg\" height=\"24px\"viewBox=\"0 0 24 24\"\n",
              "       width=\"24px\">\n",
              "    <path d=\"M0 0h24v24H0V0z\" fill=\"none\"/>\n",
              "    <path d=\"M18.56 5.44l.94 2.06.94-2.06 2.06-.94-2.06-.94-.94-2.06-.94 2.06-2.06.94zm-11 1L8.5 8.5l.94-2.06 2.06-.94-2.06-.94L8.5 2.5l-.94 2.06-2.06.94zm10 10l.94 2.06.94-2.06 2.06-.94-2.06-.94-.94-2.06-.94 2.06-2.06.94z\"/><path d=\"M17.41 7.96l-1.37-1.37c-.4-.4-.92-.59-1.43-.59-.52 0-1.04.2-1.43.59L10.3 9.45l-7.72 7.72c-.78.78-.78 2.05 0 2.83L4 21.41c.39.39.9.59 1.41.59.51 0 1.02-.2 1.41-.59l7.78-7.78 2.81-2.81c.8-.78.8-2.07 0-2.86zM5.41 20L4 18.59l7.72-7.72 1.47 1.35L5.41 20z\"/>\n",
              "  </svg>\n",
              "      </button>\n",
              "      \n",
              "  <style>\n",
              "    .colab-df-container {\n",
              "      display:flex;\n",
              "      flex-wrap:wrap;\n",
              "      gap: 12px;\n",
              "    }\n",
              "\n",
              "    .colab-df-convert {\n",
              "      background-color: #E8F0FE;\n",
              "      border: none;\n",
              "      border-radius: 50%;\n",
              "      cursor: pointer;\n",
              "      display: none;\n",
              "      fill: #1967D2;\n",
              "      height: 32px;\n",
              "      padding: 0 0 0 0;\n",
              "      width: 32px;\n",
              "    }\n",
              "\n",
              "    .colab-df-convert:hover {\n",
              "      background-color: #E2EBFA;\n",
              "      box-shadow: 0px 1px 2px rgba(60, 64, 67, 0.3), 0px 1px 3px 1px rgba(60, 64, 67, 0.15);\n",
              "      fill: #174EA6;\n",
              "    }\n",
              "\n",
              "    [theme=dark] .colab-df-convert {\n",
              "      background-color: #3B4455;\n",
              "      fill: #D2E3FC;\n",
              "    }\n",
              "\n",
              "    [theme=dark] .colab-df-convert:hover {\n",
              "      background-color: #434B5C;\n",
              "      box-shadow: 0px 1px 3px 1px rgba(0, 0, 0, 0.15);\n",
              "      filter: drop-shadow(0px 1px 2px rgba(0, 0, 0, 0.3));\n",
              "      fill: #FFFFFF;\n",
              "    }\n",
              "  </style>\n",
              "\n",
              "      <script>\n",
              "        const buttonEl =\n",
              "          document.querySelector('#df-5ab47e78-9f4c-4a72-a3a9-443d10026a4c button.colab-df-convert');\n",
              "        buttonEl.style.display =\n",
              "          google.colab.kernel.accessAllowed ? 'block' : 'none';\n",
              "\n",
              "        async function convertToInteractive(key) {\n",
              "          const element = document.querySelector('#df-5ab47e78-9f4c-4a72-a3a9-443d10026a4c');\n",
              "          const dataTable =\n",
              "            await google.colab.kernel.invokeFunction('convertToInteractive',\n",
              "                                                     [key], {});\n",
              "          if (!dataTable) return;\n",
              "\n",
              "          const docLinkHtml = 'Like what you see? Visit the ' +\n",
              "            '<a target=\"_blank\" href=https://colab.research.google.com/notebooks/data_table.ipynb>data table notebook</a>'\n",
              "            + ' to learn more about interactive tables.';\n",
              "          element.innerHTML = '';\n",
              "          dataTable['output_type'] = 'display_data';\n",
              "          await google.colab.output.renderOutput(dataTable, element);\n",
              "          const docLink = document.createElement('div');\n",
              "          docLink.innerHTML = docLinkHtml;\n",
              "          element.appendChild(docLink);\n",
              "        }\n",
              "      </script>\n",
              "    </div>\n",
              "  </div>\n",
              "  "
            ],
            "text/plain": [
              "     sample  sample_name  die_iml\n",
              "die                              \n",
              "1      1727         1727     1727"
            ]
          },
          "metadata": {},
          "execution_count": 16
        }
      ],
      "source": [
        "df_0.groupby('die').count()"
      ],
      "id": "_hgpMskG1BUt"
    },
    {
      "cell_type": "markdown",
      "metadata": {
        "id": "nu9v2y--TBmw"
      },
      "source": [
        "# Select Die 1"
      ],
      "id": "nu9v2y--TBmw"
    },
    {
      "cell_type": "code",
      "execution_count": null,
      "metadata": {
        "id": "J8_ajZvsTQz8"
      },
      "outputs": [],
      "source": [
        "df_1_sample = df_1_sample[df_1_sample[\"die\"]=='1']\n",
        "df_0 = df_0[df_0[\"die\"]=='1']\n",
        "df_1_template  = df_1_template[df_1_template[\"die\"]=='1']"
      ],
      "id": "J8_ajZvsTQz8"
    },
    {
      "cell_type": "code",
      "execution_count": null,
      "metadata": {
        "id": "hQ9E1mu65_aN"
      },
      "outputs": [],
      "source": [
        "df_1_template =df_1_template.sample(n=200,random_state=2)"
      ],
      "id": "hQ9E1mu65_aN"
    },
    {
      "cell_type": "code",
      "source": [
        "df_0 =df_0.sample(n=500,random_state=2)"
      ],
      "metadata": {
        "id": "tyI74HKxlnDF"
      },
      "id": "tyI74HKxlnDF",
      "execution_count": null,
      "outputs": []
    },
    {
      "cell_type": "code",
      "execution_count": null,
      "metadata": {
        "colab": {
          "base_uri": "https://localhost:8080/",
          "height": 206
        },
        "id": "Dmr_8ajNCrC6",
        "outputId": "45462161-76bf-4452-a24b-f333a8d937d3"
      },
      "outputs": [
        {
          "output_type": "execute_result",
          "data": {
            "text/html": [
              "\n",
              "  <div id=\"df-c3e6174e-70ef-48c8-9ae2-c07a4f8fc6a6\">\n",
              "    <div class=\"colab-df-container\">\n",
              "      <div>\n",
              "<style scoped>\n",
              "    .dataframe tbody tr th:only-of-type {\n",
              "        vertical-align: middle;\n",
              "    }\n",
              "\n",
              "    .dataframe tbody tr th {\n",
              "        vertical-align: top;\n",
              "    }\n",
              "\n",
              "    .dataframe thead th {\n",
              "        text-align: right;\n",
              "    }\n",
              "</style>\n",
              "<table border=\"1\" class=\"dataframe\">\n",
              "  <thead>\n",
              "    <tr style=\"text-align: right;\">\n",
              "      <th></th>\n",
              "      <th>template</th>\n",
              "      <th>template_name</th>\n",
              "      <th>die</th>\n",
              "    </tr>\n",
              "    <tr>\n",
              "      <th>die_iml</th>\n",
              "      <th></th>\n",
              "      <th></th>\n",
              "      <th></th>\n",
              "    </tr>\n",
              "  </thead>\n",
              "  <tbody>\n",
              "    <tr>\n",
              "      <th>(1, 1)</th>\n",
              "      <td>23</td>\n",
              "      <td>23</td>\n",
              "      <td>23</td>\n",
              "    </tr>\n",
              "    <tr>\n",
              "      <th>(1, 2)</th>\n",
              "      <td>34</td>\n",
              "      <td>34</td>\n",
              "      <td>34</td>\n",
              "    </tr>\n",
              "    <tr>\n",
              "      <th>(1, 3)</th>\n",
              "      <td>28</td>\n",
              "      <td>28</td>\n",
              "      <td>28</td>\n",
              "    </tr>\n",
              "    <tr>\n",
              "      <th>(1, 4)</th>\n",
              "      <td>15</td>\n",
              "      <td>15</td>\n",
              "      <td>15</td>\n",
              "    </tr>\n",
              "  </tbody>\n",
              "</table>\n",
              "</div>\n",
              "      <button class=\"colab-df-convert\" onclick=\"convertToInteractive('df-c3e6174e-70ef-48c8-9ae2-c07a4f8fc6a6')\"\n",
              "              title=\"Convert this dataframe to an interactive table.\"\n",
              "              style=\"display:none;\">\n",
              "        \n",
              "  <svg xmlns=\"http://www.w3.org/2000/svg\" height=\"24px\"viewBox=\"0 0 24 24\"\n",
              "       width=\"24px\">\n",
              "    <path d=\"M0 0h24v24H0V0z\" fill=\"none\"/>\n",
              "    <path d=\"M18.56 5.44l.94 2.06.94-2.06 2.06-.94-2.06-.94-.94-2.06-.94 2.06-2.06.94zm-11 1L8.5 8.5l.94-2.06 2.06-.94-2.06-.94L8.5 2.5l-.94 2.06-2.06.94zm10 10l.94 2.06.94-2.06 2.06-.94-2.06-.94-.94-2.06-.94 2.06-2.06.94z\"/><path d=\"M17.41 7.96l-1.37-1.37c-.4-.4-.92-.59-1.43-.59-.52 0-1.04.2-1.43.59L10.3 9.45l-7.72 7.72c-.78.78-.78 2.05 0 2.83L4 21.41c.39.39.9.59 1.41.59.51 0 1.02-.2 1.41-.59l7.78-7.78 2.81-2.81c.8-.78.8-2.07 0-2.86zM5.41 20L4 18.59l7.72-7.72 1.47 1.35L5.41 20z\"/>\n",
              "  </svg>\n",
              "      </button>\n",
              "      \n",
              "  <style>\n",
              "    .colab-df-container {\n",
              "      display:flex;\n",
              "      flex-wrap:wrap;\n",
              "      gap: 12px;\n",
              "    }\n",
              "\n",
              "    .colab-df-convert {\n",
              "      background-color: #E8F0FE;\n",
              "      border: none;\n",
              "      border-radius: 50%;\n",
              "      cursor: pointer;\n",
              "      display: none;\n",
              "      fill: #1967D2;\n",
              "      height: 32px;\n",
              "      padding: 0 0 0 0;\n",
              "      width: 32px;\n",
              "    }\n",
              "\n",
              "    .colab-df-convert:hover {\n",
              "      background-color: #E2EBFA;\n",
              "      box-shadow: 0px 1px 2px rgba(60, 64, 67, 0.3), 0px 1px 3px 1px rgba(60, 64, 67, 0.15);\n",
              "      fill: #174EA6;\n",
              "    }\n",
              "\n",
              "    [theme=dark] .colab-df-convert {\n",
              "      background-color: #3B4455;\n",
              "      fill: #D2E3FC;\n",
              "    }\n",
              "\n",
              "    [theme=dark] .colab-df-convert:hover {\n",
              "      background-color: #434B5C;\n",
              "      box-shadow: 0px 1px 3px 1px rgba(0, 0, 0, 0.15);\n",
              "      filter: drop-shadow(0px 1px 2px rgba(0, 0, 0, 0.3));\n",
              "      fill: #FFFFFF;\n",
              "    }\n",
              "  </style>\n",
              "\n",
              "      <script>\n",
              "        const buttonEl =\n",
              "          document.querySelector('#df-c3e6174e-70ef-48c8-9ae2-c07a4f8fc6a6 button.colab-df-convert');\n",
              "        buttonEl.style.display =\n",
              "          google.colab.kernel.accessAllowed ? 'block' : 'none';\n",
              "\n",
              "        async function convertToInteractive(key) {\n",
              "          const element = document.querySelector('#df-c3e6174e-70ef-48c8-9ae2-c07a4f8fc6a6');\n",
              "          const dataTable =\n",
              "            await google.colab.kernel.invokeFunction('convertToInteractive',\n",
              "                                                     [key], {});\n",
              "          if (!dataTable) return;\n",
              "\n",
              "          const docLinkHtml = 'Like what you see? Visit the ' +\n",
              "            '<a target=\"_blank\" href=https://colab.research.google.com/notebooks/data_table.ipynb>data table notebook</a>'\n",
              "            + ' to learn more about interactive tables.';\n",
              "          element.innerHTML = '';\n",
              "          dataTable['output_type'] = 'display_data';\n",
              "          await google.colab.output.renderOutput(dataTable, element);\n",
              "          const docLink = document.createElement('div');\n",
              "          docLink.innerHTML = docLinkHtml;\n",
              "          element.appendChild(docLink);\n",
              "        }\n",
              "      </script>\n",
              "    </div>\n",
              "  </div>\n",
              "  "
            ],
            "text/plain": [
              "         template  template_name  die\n",
              "die_iml                              \n",
              "(1, 1)         23             23   23\n",
              "(1, 2)         34             34   34\n",
              "(1, 3)         28             28   28\n",
              "(1, 4)         15             15   15"
            ]
          },
          "metadata": {},
          "execution_count": 16
        }
      ],
      "source": [
        "df_1_template.groupby('die_iml').count()"
      ],
      "id": "Dmr_8ajNCrC6"
    },
    {
      "cell_type": "code",
      "execution_count": null,
      "metadata": {
        "id": "RZXQPIHbcuWg"
      },
      "outputs": [],
      "source": [
        "df_1_template = df_1_template.drop(columns='die')"
      ],
      "id": "RZXQPIHbcuWg"
    },
    {
      "cell_type": "markdown",
      "metadata": {
        "id": "mRx78sKWpT3B"
      },
      "source": [
        "#Die 1 models and results"
      ],
      "id": "mRx78sKWpT3B"
    },
    {
      "cell_type": "code",
      "execution_count": null,
      "metadata": {
        "id": "UZR16c7PZLj4"
      },
      "outputs": [],
      "source": [
        "df_train,df_validation = create_matched_missmatched (df_1_template,df_0,df_1_sample)"
      ],
      "id": "UZR16c7PZLj4"
    },
    {
      "cell_type": "code",
      "execution_count": null,
      "metadata": {
        "id": "uzxuPeBAqQhA"
      },
      "outputs": [],
      "source": [
        "batch_size = 128\n",
        "sequence_train = DataSequence(df_train,batch_size )\n",
        "sequence_validation = DataSequence(df_validation, batch_size)"
      ],
      "id": "uzxuPeBAqQhA"
    },
    {
      "cell_type": "code",
      "execution_count": null,
      "metadata": {
        "id": "IexHfnE07LUu"
      },
      "outputs": [],
      "source": [
        "# This function is responsible for the Multi-layer feature fusion : create sample and template features and perform the similarity measure.\n",
        "predict_5layers(sequence_train,model)"
      ],
      "id": "IexHfnE07LUu"
    },
    {
      "cell_type": "markdown",
      "metadata": {
        "id": "G88JQ1Rk-WCn"
      },
      "source": [
        " In case of system failure, you can run the following function and re-run the predict_5layers function. Pay attention to the batch size (124 or 256 )"
      ],
      "id": "G88JQ1Rk-WCn"
    },
    {
      "cell_type": "code",
      "execution_count": null,
      "metadata": {
        "id": "DSHWPs2WjVUa"
      },
      "outputs": [],
      "source": [
        "btsize = 164\n",
        "def predict_batches_diff(sequence,model1,model2,model3,model4,model5): \n",
        "  zeros = np.zeros(4024)\n",
        "  for i in range(len(sequence)): \n",
        "    if all(sequence.diff[i*btsize] == zeros):\n",
        "        diff1 = predict_one_model_one_batch(sequence[i],model1)\n",
        "        diff2 = predict_one_model_one_batch(sequence[i],model2)\n",
        "        diff3 = predict_one_model_one_batch(sequence[i],model3)\n",
        "        diff4 = predict_one_model_one_batch(sequence[i],model4)\n",
        "        diff5 = predict_one_model_one_batch(sequence[i],model5)\n",
        "        a= np.append(diff1,diff2,axis= 1)\n",
        "        b= np.append(diff3,diff4,axis= 1)\n",
        "        c= np.append(b,diff5,axis= 1)\n",
        "        diff= np.append(a,c,axis= 1)\n",
        "        sequence.change_batch_diff(diff,i)"
      ],
      "id": "DSHWPs2WjVUa"
    },
    {
      "cell_type": "code",
      "execution_count": null,
      "metadata": {
        "colab": {
          "base_uri": "https://localhost:8080/"
        },
        "id": "fYhYbrzafqO5",
        "outputId": "7e742e69-865f-421b-ebd8-ffbb1ed59190"
      },
      "outputs": [
        {
          "output_type": "stream",
          "name": "stdout",
          "text": [
            "WARNING:tensorflow:5 out of the last 1583 calls to <function Model.make_predict_function.<locals>.predict_function at 0x7fb6dc68e4d0> triggered tf.function retracing. Tracing is expensive and the excessive number of tracings could be due to (1) creating @tf.function repeatedly in a loop, (2) passing tensors with different shapes, (3) passing Python objects instead of tensors. For (1), please define your @tf.function outside of the loop. For (2), @tf.function has experimental_relax_shapes=True option that relaxes argument shapes that can avoid unnecessary retracing. For (3), please refer to https://www.tensorflow.org/guide/function#controlling_retracing and https://www.tensorflow.org/api_docs/python/tf/function for  more details.\n"
          ]
        }
      ],
      "source": [
        "# This function is responsible for the Multi-layer feature fusion : create sample and template features and perform the similarity measure.\n",
        "predict_5layers(sequence_validation,model)"
      ],
      "id": "fYhYbrzafqO5"
    },
    {
      "cell_type": "markdown",
      "metadata": {
        "id": "3BDILDvLMBaM"
      },
      "source": [
        "## Fully Connected block "
      ],
      "id": "3BDILDvLMBaM"
    },
    {
      "cell_type": "code",
      "execution_count": null,
      "metadata": {
        "id": "-34HLaOQMDb7"
      },
      "outputs": [],
      "source": [
        "model_FC = keras.Sequential(\n",
        "    [\n",
        "        keras.layers.Dense(512, activation=\"relu\", name=\"layer1\"),\n",
        "        keras.layers.Dense(128, activation=\"relu\", name=\"layer2\"),\n",
        "        keras.layers.Dense(2,  activation=\"softmax\", name=\"layer3\"),\n",
        "    ]\n",
        ")"
      ],
      "id": "-34HLaOQMDb7"
    },
    {
      "cell_type": "code",
      "execution_count": null,
      "metadata": {
        "id": "8dXvmgOHikJc"
      },
      "outputs": [],
      "source": [
        "from tensorflow.keras.utils import to_categorical\n",
        "y= to_categorical(sequence_train.labels)"
      ],
      "id": "8dXvmgOHikJc"
    },
    {
      "cell_type": "code",
      "execution_count": null,
      "metadata": {
        "colab": {
          "base_uri": "https://localhost:8080/"
        },
        "id": "mniB8VKlhmg0",
        "outputId": "6da447a5-3d76-4613-d60a-64b0ad7327cb"
      },
      "outputs": [
        {
          "output_type": "stream",
          "name": "stdout",
          "text": [
            "Epoch 1/25\n",
            "166/166 [==============================] - 2s 6ms/step - loss: 0.1319 - accuracy: 0.9526 - val_loss: 0.0050 - val_accuracy: 0.9998\n",
            "Epoch 2/25\n",
            "166/166 [==============================] - 1s 5ms/step - loss: 0.0023 - accuracy: 0.9998 - val_loss: 0.0062 - val_accuracy: 0.9975\n",
            "Epoch 3/25\n",
            "166/166 [==============================] - 1s 5ms/step - loss: 3.7795e-04 - accuracy: 1.0000 - val_loss: 0.0055 - val_accuracy: 0.9975\n",
            "Epoch 4/25\n",
            "166/166 [==============================] - 1s 5ms/step - loss: 1.8484e-04 - accuracy: 1.0000 - val_loss: 0.0051 - val_accuracy: 0.9975\n",
            "Epoch 5/25\n",
            "166/166 [==============================] - 1s 5ms/step - loss: 1.1250e-04 - accuracy: 1.0000 - val_loss: 0.0043 - val_accuracy: 0.9975\n",
            "Epoch 6/25\n",
            "166/166 [==============================] - 1s 5ms/step - loss: 7.4538e-05 - accuracy: 1.0000 - val_loss: 0.0053 - val_accuracy: 0.9975\n",
            "Epoch 7/25\n",
            "166/166 [==============================] - 1s 5ms/step - loss: 5.3248e-05 - accuracy: 1.0000 - val_loss: 0.0060 - val_accuracy: 0.9973\n",
            "Epoch 8/25\n",
            "166/166 [==============================] - 1s 5ms/step - loss: 3.9815e-05 - accuracy: 1.0000 - val_loss: 0.0054 - val_accuracy: 0.9973\n",
            "Epoch 9/25\n",
            "166/166 [==============================] - 1s 5ms/step - loss: 3.0656e-05 - accuracy: 1.0000 - val_loss: 0.0057 - val_accuracy: 0.9973\n",
            "Epoch 10/25\n",
            "166/166 [==============================] - 1s 5ms/step - loss: 2.4190e-05 - accuracy: 1.0000 - val_loss: 0.0049 - val_accuracy: 0.9973\n",
            "Epoch 11/25\n",
            "166/166 [==============================] - 1s 5ms/step - loss: 1.9634e-05 - accuracy: 1.0000 - val_loss: 0.0054 - val_accuracy: 0.9973\n",
            "Epoch 12/25\n",
            "166/166 [==============================] - 1s 5ms/step - loss: 1.6044e-05 - accuracy: 1.0000 - val_loss: 0.0060 - val_accuracy: 0.9973\n",
            "Epoch 13/25\n",
            "166/166 [==============================] - 1s 5ms/step - loss: 1.3290e-05 - accuracy: 1.0000 - val_loss: 0.0057 - val_accuracy: 0.9973\n",
            "Epoch 14/25\n",
            "166/166 [==============================] - 1s 5ms/step - loss: 1.1107e-05 - accuracy: 1.0000 - val_loss: 0.0056 - val_accuracy: 0.9973\n",
            "Epoch 15/25\n",
            "166/166 [==============================] - 1s 5ms/step - loss: 9.3924e-06 - accuracy: 1.0000 - val_loss: 0.0060 - val_accuracy: 0.9973\n",
            "Epoch 16/25\n",
            "166/166 [==============================] - 1s 5ms/step - loss: 8.0257e-06 - accuracy: 1.0000 - val_loss: 0.0058 - val_accuracy: 0.9973\n",
            "Epoch 17/25\n",
            "166/166 [==============================] - 1s 5ms/step - loss: 6.9109e-06 - accuracy: 1.0000 - val_loss: 0.0063 - val_accuracy: 0.9971\n",
            "Epoch 18/25\n",
            "166/166 [==============================] - 1s 5ms/step - loss: 5.9520e-06 - accuracy: 1.0000 - val_loss: 0.0065 - val_accuracy: 0.9971\n",
            "Epoch 19/25\n",
            "166/166 [==============================] - 1s 5ms/step - loss: 5.1727e-06 - accuracy: 1.0000 - val_loss: 0.0063 - val_accuracy: 0.9971\n",
            "Epoch 20/25\n",
            "166/166 [==============================] - 1s 5ms/step - loss: 4.5213e-06 - accuracy: 1.0000 - val_loss: 0.0063 - val_accuracy: 0.9971\n",
            "Epoch 21/25\n",
            "166/166 [==============================] - 1s 5ms/step - loss: 3.9664e-06 - accuracy: 1.0000 - val_loss: 0.0064 - val_accuracy: 0.9971\n",
            "Epoch 22/25\n",
            "166/166 [==============================] - 1s 5ms/step - loss: 3.4871e-06 - accuracy: 1.0000 - val_loss: 0.0066 - val_accuracy: 0.9971\n",
            "Epoch 23/25\n",
            "166/166 [==============================] - 1s 5ms/step - loss: 3.0864e-06 - accuracy: 1.0000 - val_loss: 0.0068 - val_accuracy: 0.9971\n",
            "Epoch 24/25\n",
            "166/166 [==============================] - 1s 5ms/step - loss: 2.7310e-06 - accuracy: 1.0000 - val_loss: 0.0069 - val_accuracy: 0.9971\n",
            "Epoch 25/25\n",
            "166/166 [==============================] - 1s 5ms/step - loss: 2.4267e-06 - accuracy: 1.0000 - val_loss: 0.0065 - val_accuracy: 0.9971\n"
          ]
        }
      ],
      "source": [
        "model_FC.compile(loss='binary_crossentropy', optimizer='adam', metrics=['accuracy'])\n",
        "\n",
        "history = model_FC.fit(sequence_train.diff,to_categorical(sequence_train.labels),\n",
        "    batch_size=128,\n",
        "    epochs=25,\n",
        "    validation_data=(sequence_validation.diff,to_categorical(sequence_validation.labels)),\n",
        ")"
      ],
      "id": "mniB8VKlhmg0"
    },
    {
      "cell_type": "code",
      "execution_count": null,
      "metadata": {
        "id": "GUsZctzC2zLl"
      },
      "outputs": [],
      "source": [
        "# save model\n",
        "model_FC.save('/content/drive/MyDrive/PFE_2/model_FC_die1_224.h5')\n",
        "model_FC.save('model_FC_die1_224.h5')"
      ],
      "id": "GUsZctzC2zLl"
    },
    {
      "cell_type": "code",
      "execution_count": null,
      "metadata": {
        "colab": {
          "base_uri": "https://localhost:8080/"
        },
        "id": "0A8-Iu6lkn5c",
        "outputId": "35e7bec9-1c03-4391-d090-0ecbff4e7fad"
      },
      "outputs": [
        {
          "output_type": "stream",
          "name": "stdout",
          "text": [
            "WARNING:tensorflow:5 out of the last 11 calls to <function Model.make_predict_function.<locals>.predict_function at 0x7fb6ddd5fd40> triggered tf.function retracing. Tracing is expensive and the excessive number of tracings could be due to (1) creating @tf.function repeatedly in a loop, (2) passing tensors with different shapes, (3) passing Python objects instead of tensors. For (1), please define your @tf.function outside of the loop. For (2), @tf.function has experimental_relax_shapes=True option that relaxes argument shapes that can avoid unnecessary retracing. For (3), please refer to https://www.tensorflow.org/guide/function#controlling_retracing and https://www.tensorflow.org/api_docs/python/tf/function for  more details.\n"
          ]
        }
      ],
      "source": [
        "# test with validation set the valeo score \n",
        "import sklearn.metrics as metrics\n",
        "dx = pd.DataFrame(sequence_validation.sample_name,columns=['sample_name'])\n",
        "dx ['label'] = sequence_validation.labels\n",
        "dx['prediction'] = model_FC.predict(sequence_validation.diff).argmax(axis=1)\n",
        "x= dx.groupby('sample_name')[['label','prediction']].mean()\n",
        "x['prediction']= x['prediction'].astype(int)\n",
        "matrix = metrics.confusion_matrix(x['label'], x['prediction'])"
      ],
      "id": "0A8-Iu6lkn5c"
    },
    {
      "cell_type": "code",
      "execution_count": null,
      "metadata": {
        "colab": {
          "base_uri": "https://localhost:8080/"
        },
        "id": "AcrplKh1mG3L",
        "outputId": "cd1685f1-b123-46ed-b145-fb81828b393b"
      },
      "outputs": [
        {
          "output_type": "stream",
          "name": "stdout",
          "text": [
            "test\n",
            "confusion matrix: \n",
            "  [[ 99   1]\n",
            " [  0 101]]\n",
            "accuracy =  0.9950248756218906\n",
            "\n",
            " precision =   0.9901960784313726\n",
            "\n",
            " recall =   1.0\n",
            "\n",
            " valeo score=   0.4975124378109453\n"
          ]
        }
      ],
      "source": [
        "print(\"test\")\n",
        "[[tn,fp],[fn,tp]]=matrix\n",
        "l=100\n",
        "print(\"confusion matrix: \\n \",matrix)\n",
        "print(\"accuracy = \",(tn+tp)/matrix.sum())\n",
        "print(\"\\n precision =  \",(tp)/(tp+fp))\n",
        "print(\"\\n recall =  \",(tp)/(tp+fn))\n",
        "print(\"\\n valeo score=  \",(fn+l*fp)/matrix.sum())"
      ],
      "id": "AcrplKh1mG3L"
    },
    {
      "cell_type": "markdown",
      "metadata": {
        "id": "MJ7XvuA5fj3I"
      },
      "source": [
        "# Die 1 using test set "
      ],
      "id": "MJ7XvuA5fj3I"
    },
    {
      "cell_type": "code",
      "execution_count": null,
      "metadata": {
        "id": "Sjm45Z_G4iWB"
      },
      "outputs": [],
      "source": [
        "from keras.models import load_model\n",
        "from tensorflow.keras.utils import to_categorical\n",
        "import sklearn.metrics as metrics\n",
        "\n",
        "model_FC =load_model('/content/drive/MyDrive/PFE_2/model_FC_die1_224.h5')"
      ],
      "id": "Sjm45Z_G4iWB"
    },
    {
      "cell_type": "code",
      "execution_count": null,
      "metadata": {
        "id": "34GXXjGPU0Bg"
      },
      "outputs": [],
      "source": [
        "model_FC.load_weights(\"/content/drive/MyDrive/PFE_2/model_FC_die1_224.h5\")"
      ],
      "id": "34GXXjGPU0Bg"
    },
    {
      "cell_type": "markdown",
      "source": [
        "## Generate test set \n",
        "this subsection is responsible for the generation of test set for a given image resize. This operation is only realised once during this project. The resulted dataframe is saved as pickle file. If you have already generated test dataframe, move directly to the next subsection."
      ],
      "metadata": {
        "id": "iLeiL9MxFwoh"
      },
      "id": "iLeiL9MxFwoh"
    },
    {
      "cell_type": "code",
      "execution_count": null,
      "metadata": {
        "id": "ZuS9ey7Afnn_"
      },
      "outputs": [],
      "source": [
        "path = \"/content/Data_challenge\"\n",
        "train_file = os.path.join(path,\"x_train\")\n",
        "test_file = os.path.join(path, \"x_test\")"
      ],
      "id": "ZuS9ey7Afnn_"
    },
    {
      "cell_type": "code",
      "execution_count": null,
      "metadata": {
        "id": "ftpZbbXHg2C1"
      },
      "outputs": [],
      "source": [
        "y_benchmark = pd.read_csv('Y_Benchmark.csv')"
      ],
      "id": "ftpZbbXHg2C1"
    },
    {
      "cell_type": "code",
      "execution_count": null,
      "metadata": {
        "colab": {
          "base_uri": "https://localhost:8080/",
          "height": 287
        },
        "id": "S0MkLT1jjvli",
        "outputId": "5edac85a-2ce0-4c73-8890-3a1c27f5e42b"
      },
      "outputs": [
        {
          "output_type": "error",
          "ename": "TypeError",
          "evalue": "ignored",
          "traceback": [
            "\u001b[0;31m---------------------------------------------------------------------------\u001b[0m",
            "\u001b[0;31mTypeError\u001b[0m                                 Traceback (most recent call last)",
            "\u001b[0;32m<ipython-input-22-bd3186d6484f>\u001b[0m in \u001b[0;36m<module>\u001b[0;34m()\u001b[0m\n\u001b[0;32m----> 1\u001b[0;31m \u001b[0mdf_test\u001b[0m \u001b[0;34m=\u001b[0m \u001b[0mgenerate_test_dataset\u001b[0m\u001b[0;34m(\u001b[0m\u001b[0;34m\"/content/Data_challenge/x_test\"\u001b[0m\u001b[0;34m,\u001b[0m\u001b[0my_benchmark\u001b[0m\u001b[0;34m,\u001b[0m\u001b[0;36m224\u001b[0m\u001b[0;34m)\u001b[0m\u001b[0;34m\u001b[0m\u001b[0;34m\u001b[0m\u001b[0m\n\u001b[0m",
            "\u001b[0;32m<ipython-input-19-e0034d143aad>\u001b[0m in \u001b[0;36mgenerate_test_dataset\u001b[0;34m(path_file, df, size)\u001b[0m\n\u001b[1;32m      8\u001b[0m                 \u001b[0mnom_img\u001b[0m \u001b[0;34m=\u001b[0m \u001b[0mrow\u001b[0m\u001b[0;34m.\u001b[0m\u001b[0mimages\u001b[0m\u001b[0;34m\u001b[0m\u001b[0;34m\u001b[0m\u001b[0m\n\u001b[1;32m      9\u001b[0m                 \u001b[0mimg\u001b[0m \u001b[0;34m=\u001b[0m \u001b[0mos\u001b[0m\u001b[0;34m.\u001b[0m\u001b[0mpath\u001b[0m\u001b[0;34m.\u001b[0m\u001b[0mjoin\u001b[0m\u001b[0;34m(\u001b[0m\u001b[0mpath_file\u001b[0m\u001b[0;34m,\u001b[0m\u001b[0mnom_img\u001b[0m\u001b[0;34m)\u001b[0m\u001b[0;34m\u001b[0m\u001b[0;34m\u001b[0m\u001b[0m\n\u001b[0;32m---> 10\u001b[0;31m                 \u001b[0mimage\u001b[0m \u001b[0;34m=\u001b[0m \u001b[0mcv2\u001b[0m\u001b[0;34m.\u001b[0m\u001b[0mimread\u001b[0m\u001b[0;34m(\u001b[0m\u001b[0mimg\u001b[0m\u001b[0;34m,\u001b[0m\u001b[0mcv2\u001b[0m\u001b[0;34m.\u001b[0m\u001b[0mIMREAD_GRAYSCALE\u001b[0m\u001b[0;34m)\u001b[0m\u001b[0;34m/\u001b[0m\u001b[0;36m255\u001b[0m\u001b[0;34m\u001b[0m\u001b[0;34m\u001b[0m\u001b[0m\n\u001b[0m\u001b[1;32m     11\u001b[0m                 \u001b[0mimage\u001b[0m \u001b[0;34m=\u001b[0m \u001b[0mcv2\u001b[0m\u001b[0;34m.\u001b[0m\u001b[0mresize\u001b[0m\u001b[0;34m(\u001b[0m\u001b[0mimage\u001b[0m\u001b[0;34m,\u001b[0m\u001b[0;34m(\u001b[0m\u001b[0msize\u001b[0m\u001b[0;34m,\u001b[0m\u001b[0msize\u001b[0m\u001b[0;34m)\u001b[0m\u001b[0;34m)\u001b[0m\u001b[0;34m\u001b[0m\u001b[0;34m\u001b[0m\u001b[0m\n\u001b[1;32m     12\u001b[0m                 \u001b[0mdie_iml\u001b[0m \u001b[0;34m=\u001b[0m \u001b[0mnom_img\u001b[0m\u001b[0;34m[\u001b[0m\u001b[0;36m18\u001b[0m\u001b[0;34m]\u001b[0m\u001b[0;34m,\u001b[0m\u001b[0mnom_img\u001b[0m\u001b[0;34m[\u001b[0m\u001b[0;36m20\u001b[0m\u001b[0;34m]\u001b[0m\u001b[0;34m\u001b[0m\u001b[0;34m\u001b[0m\u001b[0m\n",
            "\u001b[0;31mTypeError\u001b[0m: unsupported operand type(s) for /: 'NoneType' and 'int'"
          ]
        }
      ],
      "source": [
        "df_test = generate_test_dataset(\"/content/Data_challenge/x_test\",y_benchmark,224)"
      ],
      "id": "S0MkLT1jjvli"
    },
    {
      "cell_type": "code",
      "execution_count": null,
      "metadata": {
        "id": "SVAWAUFD33T4"
      },
      "outputs": [],
      "source": [
        "#with open('/content/drive/MyDrive/PFE_2/df_test_224.pkl', 'wb') as f:\n",
        "#  pickle.dump(df_test, f)"
      ],
      "id": "SVAWAUFD33T4"
    },
    {
      "cell_type": "markdown",
      "source": [
        "## Die 1 test set results"
      ],
      "metadata": {
        "id": "ZaIARismGNIg"
      },
      "id": "ZaIARismGNIg"
    },
    {
      "cell_type": "code",
      "execution_count": null,
      "metadata": {
        "id": "SUBvGVeo45g3"
      },
      "outputs": [],
      "source": [
        "#load picke\n",
        "df_test = pd.read_pickle(\"/content/drive/MyDrive/PFE_2/df_test_224.pkl\")"
      ],
      "id": "SUBvGVeo45g3"
    },
    {
      "cell_type": "code",
      "execution_count": null,
      "metadata": {
        "id": "pwIZBsWkx8xP"
      },
      "outputs": [],
      "source": [
        "df_test = df_test[df_test[\"die\"]=='1']"
      ],
      "id": "pwIZBsWkx8xP"
    },
    {
      "cell_type": "code",
      "execution_count": null,
      "metadata": {
        "id": "X7EtbYM7tPBq"
      },
      "outputs": [],
      "source": [
        "df_test_t = df_test.merge(df_1_template, how='inner', on='die_iml')"
      ],
      "id": "X7EtbYM7tPBq"
    },
    {
      "cell_type": "code",
      "execution_count": null,
      "metadata": {
        "id": "4dOf8VkDtU7M"
      },
      "outputs": [],
      "source": [
        "sequence_test = DataSequence(df_test_t, 128)"
      ],
      "id": "4dOf8VkDtU7M"
    },
    {
      "cell_type": "code",
      "execution_count": null,
      "metadata": {
        "colab": {
          "base_uri": "https://localhost:8080/"
        },
        "id": "jmhdZIrLySR7",
        "outputId": "338f3500-0991-4c9b-f9b3-975c7909f84e"
      },
      "outputs": [
        {
          "output_type": "execute_result",
          "data": {
            "text/plain": [
              "104"
            ]
          },
          "metadata": {},
          "execution_count": 57
        }
      ],
      "source": [
        "len(sequence_test)"
      ],
      "id": "jmhdZIrLySR7"
    },
    {
      "cell_type": "code",
      "execution_count": null,
      "metadata": {
        "id": "O4Zg5Z2Ate3m"
      },
      "outputs": [],
      "source": [
        "predict_5layers(sequence_test,model)"
      ],
      "id": "O4Zg5Z2Ate3m"
    },
    {
      "cell_type": "code",
      "execution_count": null,
      "metadata": {
        "colab": {
          "base_uri": "https://localhost:8080/"
        },
        "id": "9RG3injHts9-",
        "outputId": "a151a09f-188d-4356-eb2c-9c8c85634ff7"
      },
      "outputs": [
        {
          "output_type": "stream",
          "name": "stdout",
          "text": [
            "416/416 [==============================] - 1s 3ms/step - loss: 0.0192 - accuracy: 0.9951\n"
          ]
        }
      ],
      "source": [
        "test_accuracy = model_FC.evaluate(\n",
        "    sequence_test.diff, to_categorical(sequence_test.labels)\n",
        ")"
      ],
      "id": "9RG3injHts9-"
    },
    {
      "cell_type": "code",
      "execution_count": null,
      "metadata": {
        "id": "0lx3SVd4AjpH"
      },
      "outputs": [],
      "source": [
        "dx = pd.DataFrame(sequence_test.sample_name,columns=['sample_name'])\n",
        "dx ['label'] = sequence_test.labels\n",
        "dx['prediction'] = model_FC.predict(sequence_test.diff).argmax(axis=1)\n",
        "x= dx.groupby('sample_name')[['label','prediction']].mean()\n",
        "x['prediction']= x['prediction'].astype(int)\n",
        "matrix = metrics.confusion_matrix(x['label'], x['prediction'])"
      ],
      "id": "0lx3SVd4AjpH"
    },
    {
      "cell_type": "code",
      "execution_count": null,
      "metadata": {
        "colab": {
          "base_uri": "https://localhost:8080/"
        },
        "id": "KFXBZW1yuFXk",
        "outputId": "44afbe1a-ab6d-4b2a-d4f1-a7798ea622fa"
      },
      "outputs": [
        {
          "output_type": "stream",
          "name": "stdout",
          "text": [
            "test\n",
            "confusion matrix: \n",
            "  [[322   2]\n",
            " [  2 164]]\n",
            "accuracy =  0.9918367346938776\n",
            "\n",
            " precision =   0.9879518072289156\n",
            "\n",
            " recall =   0.9879518072289156\n",
            "\n",
            " valeo score=   0.4122448979591837\n"
          ]
        }
      ],
      "source": [
        "print(\"test\")\n",
        "[[tn,fp],[fn,tp]]=matrix\n",
        "l=100\n",
        "print(\"confusion matrix: \\n \",matrix)\n",
        "print(\"accuracy = \",(tn+tp)/matrix.sum())\n",
        "print(\"\\n precision =  \",(tp)/(tp+fp))\n",
        "print(\"\\n recall =  \",(tp)/(tp+fn))\n",
        "print(\"\\n valeo score=  \",(fn+l*fp)/matrix.sum())"
      ],
      "id": "KFXBZW1yuFXk"
    },
    {
      "cell_type": "code",
      "execution_count": null,
      "metadata": {
        "colab": {
          "base_uri": "https://localhost:8080/",
          "height": 143
        },
        "id": "_0oF2ZQmtvS1",
        "outputId": "99b57e0a-2f58-491a-eee6-61b454f2f824"
      },
      "outputs": [
        {
          "output_type": "execute_result",
          "data": {
            "text/html": [
              "\n",
              "  <div id=\"df-404b1705-b5d5-4b06-a8f4-31bebe3573d0\">\n",
              "    <div class=\"colab-df-container\">\n",
              "      <div>\n",
              "<style scoped>\n",
              "    .dataframe tbody tr th:only-of-type {\n",
              "        vertical-align: middle;\n",
              "    }\n",
              "\n",
              "    .dataframe tbody tr th {\n",
              "        vertical-align: top;\n",
              "    }\n",
              "\n",
              "    .dataframe thead th {\n",
              "        text-align: right;\n",
              "    }\n",
              "</style>\n",
              "<table border=\"1\" class=\"dataframe\">\n",
              "  <thead>\n",
              "    <tr style=\"text-align: right;\">\n",
              "      <th></th>\n",
              "      <th>sample</th>\n",
              "      <th>sample_name</th>\n",
              "      <th>die_iml</th>\n",
              "      <th>die</th>\n",
              "    </tr>\n",
              "    <tr>\n",
              "      <th>label</th>\n",
              "      <th></th>\n",
              "      <th></th>\n",
              "      <th></th>\n",
              "      <th></th>\n",
              "    </tr>\n",
              "  </thead>\n",
              "  <tbody>\n",
              "    <tr>\n",
              "      <th>0</th>\n",
              "      <td>324</td>\n",
              "      <td>324</td>\n",
              "      <td>324</td>\n",
              "      <td>324</td>\n",
              "    </tr>\n",
              "    <tr>\n",
              "      <th>1</th>\n",
              "      <td>166</td>\n",
              "      <td>166</td>\n",
              "      <td>166</td>\n",
              "      <td>166</td>\n",
              "    </tr>\n",
              "  </tbody>\n",
              "</table>\n",
              "</div>\n",
              "      <button class=\"colab-df-convert\" onclick=\"convertToInteractive('df-404b1705-b5d5-4b06-a8f4-31bebe3573d0')\"\n",
              "              title=\"Convert this dataframe to an interactive table.\"\n",
              "              style=\"display:none;\">\n",
              "        \n",
              "  <svg xmlns=\"http://www.w3.org/2000/svg\" height=\"24px\"viewBox=\"0 0 24 24\"\n",
              "       width=\"24px\">\n",
              "    <path d=\"M0 0h24v24H0V0z\" fill=\"none\"/>\n",
              "    <path d=\"M18.56 5.44l.94 2.06.94-2.06 2.06-.94-2.06-.94-.94-2.06-.94 2.06-2.06.94zm-11 1L8.5 8.5l.94-2.06 2.06-.94-2.06-.94L8.5 2.5l-.94 2.06-2.06.94zm10 10l.94 2.06.94-2.06 2.06-.94-2.06-.94-.94-2.06-.94 2.06-2.06.94z\"/><path d=\"M17.41 7.96l-1.37-1.37c-.4-.4-.92-.59-1.43-.59-.52 0-1.04.2-1.43.59L10.3 9.45l-7.72 7.72c-.78.78-.78 2.05 0 2.83L4 21.41c.39.39.9.59 1.41.59.51 0 1.02-.2 1.41-.59l7.78-7.78 2.81-2.81c.8-.78.8-2.07 0-2.86zM5.41 20L4 18.59l7.72-7.72 1.47 1.35L5.41 20z\"/>\n",
              "  </svg>\n",
              "      </button>\n",
              "      \n",
              "  <style>\n",
              "    .colab-df-container {\n",
              "      display:flex;\n",
              "      flex-wrap:wrap;\n",
              "      gap: 12px;\n",
              "    }\n",
              "\n",
              "    .colab-df-convert {\n",
              "      background-color: #E8F0FE;\n",
              "      border: none;\n",
              "      border-radius: 50%;\n",
              "      cursor: pointer;\n",
              "      display: none;\n",
              "      fill: #1967D2;\n",
              "      height: 32px;\n",
              "      padding: 0 0 0 0;\n",
              "      width: 32px;\n",
              "    }\n",
              "\n",
              "    .colab-df-convert:hover {\n",
              "      background-color: #E2EBFA;\n",
              "      box-shadow: 0px 1px 2px rgba(60, 64, 67, 0.3), 0px 1px 3px 1px rgba(60, 64, 67, 0.15);\n",
              "      fill: #174EA6;\n",
              "    }\n",
              "\n",
              "    [theme=dark] .colab-df-convert {\n",
              "      background-color: #3B4455;\n",
              "      fill: #D2E3FC;\n",
              "    }\n",
              "\n",
              "    [theme=dark] .colab-df-convert:hover {\n",
              "      background-color: #434B5C;\n",
              "      box-shadow: 0px 1px 3px 1px rgba(0, 0, 0, 0.15);\n",
              "      filter: drop-shadow(0px 1px 2px rgba(0, 0, 0, 0.3));\n",
              "      fill: #FFFFFF;\n",
              "    }\n",
              "  </style>\n",
              "\n",
              "      <script>\n",
              "        const buttonEl =\n",
              "          document.querySelector('#df-404b1705-b5d5-4b06-a8f4-31bebe3573d0 button.colab-df-convert');\n",
              "        buttonEl.style.display =\n",
              "          google.colab.kernel.accessAllowed ? 'block' : 'none';\n",
              "\n",
              "        async function convertToInteractive(key) {\n",
              "          const element = document.querySelector('#df-404b1705-b5d5-4b06-a8f4-31bebe3573d0');\n",
              "          const dataTable =\n",
              "            await google.colab.kernel.invokeFunction('convertToInteractive',\n",
              "                                                     [key], {});\n",
              "          if (!dataTable) return;\n",
              "\n",
              "          const docLinkHtml = 'Like what you see? Visit the ' +\n",
              "            '<a target=\"_blank\" href=https://colab.research.google.com/notebooks/data_table.ipynb>data table notebook</a>'\n",
              "            + ' to learn more about interactive tables.';\n",
              "          element.innerHTML = '';\n",
              "          dataTable['output_type'] = 'display_data';\n",
              "          await google.colab.output.renderOutput(dataTable, element);\n",
              "          const docLink = document.createElement('div');\n",
              "          docLink.innerHTML = docLinkHtml;\n",
              "          element.appendChild(docLink);\n",
              "        }\n",
              "      </script>\n",
              "    </div>\n",
              "  </div>\n",
              "  "
            ],
            "text/plain": [
              "       sample  sample_name  die_iml  die\n",
              "label                                   \n",
              "0         324          324      324  324\n",
              "1         166          166      166  166"
            ]
          },
          "metadata": {},
          "execution_count": 62
        }
      ],
      "source": [
        "df_test.groupby('label').count()"
      ],
      "id": "_0oF2ZQmtvS1"
    }
  ],
  "metadata": {
    "accelerator": "GPU",
    "colab": {
      "collapsed_sections": [
        "x9k72BIhwmk_",
        "UnNLlYfspj7z"
      ],
      "name": "Model_missmatched_DIE1.ipynb",
      "provenance": []
    },
    "kernelspec": {
      "display_name": "Python 3",
      "language": "python",
      "name": "python3"
    },
    "language_info": {
      "codemirror_mode": {
        "name": "ipython",
        "version": 3
      },
      "file_extension": ".py",
      "mimetype": "text/x-python",
      "name": "python",
      "nbconvert_exporter": "python",
      "pygments_lexer": "ipython3",
      "version": "3.9.7"
    }
  },
  "nbformat": 4,
  "nbformat_minor": 5
}